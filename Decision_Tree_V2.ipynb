{
 "cells": [
  {
   "cell_type": "code",
   "execution_count": null,
   "id": "5c7e1f0e",
   "metadata": {},
   "outputs": [],
   "source": [
    "# Enhanced Decision Tree with Friendly Visualization\n",
    "# Based on diabetes prediction dataset\n",
    "\n",
    "import pandas as pd\n",
    "import matplotlib.pyplot as plt\n",
    "import seaborn as sns\n",
    "from sklearn.tree import DecisionTreeClassifier, plot_tree\n",
    "from sklearn.model_selection import train_test_split\n",
    "from sklearn import metrics\n",
    "import numpy as np\n",
    "\n",
    "# Set style for better looking plots\n",
    "plt.style.use('seaborn-v0_8')\n",
    "sns.set_palette(\"husl\")\n",
    "\n",
    "################################# DATA HANDLING ####################################################\n",
    "col_names = ['pregnant', 'glucose', 'bp', 'skin', 'insulin', 'bmi', 'pedigree', 'age', 'label']\n",
    "# load dataset\n",
    "pima = pd.read_csv(\"diabetes.csv\", header=None, names=col_names)\n",
    "\n",
    "# Create more readable feature names for visualization\n",
    "feature_mapping = {\n",
    "    'pregnant': 'Pregnancies',\n",
    "    'insulin': 'Insulin Level',\n",
    "    'bmi': 'BMI',\n",
    "    'age': 'Age',\n",
    "    'glucose': 'Glucose Level',\n",
    "    'bp': 'Blood Pressure',\n",
    "    'pedigree': 'Diabetes Pedigree'\n",
    "}\n",
    "\n",
    "feature_cols = ['pregnant', 'insulin', 'bmi', 'age','glucose','bp','pedigree']\n",
    "X = pima[feature_cols]\n",
    "y = pima.label\n",
    "\n",
    "# Split dataset\n",
    "X_train, X_test, y_train, y_test = train_test_split(X, y, test_size=0.3, random_state=1)"
   ]
  },
  {
   "cell_type": "code",
   "execution_count": null,
   "id": "a9c59b2c",
   "metadata": {},
   "outputs": [],
   "source": [
    "\n",
    "################################# MACHINE LEARNING PART ####################################################\n",
    "# Create a simpler tree for better visualization (limit depth)\n",
    "clf = DecisionTreeClassifier() # <===== OPTIMIZAR AQUI, Incluir los argumentos \"criterion\" y \"max_depth\" de acuerdo a la documentacion en https://scikit-learn.org/stable/modules/generated/sklearn.tree.DecisionTreeClassifier.html\n",
    "clf = clf.fit(X_train, y_train)\n",
    "\n",
    "# Predictions and accuracy\n",
    "y_pred = clf.predict(X_test)\n",
    "accuracy = metrics.accuracy_score(y_test, y_pred)\n",
    "print(f\"Model Accuracy: {accuracy:.2%}\")\n"
   ]
  },
  {
   "cell_type": "code",
   "execution_count": null,
   "id": "e07bd83f",
   "metadata": {},
   "outputs": [],
   "source": [
    "\n",
    "#################################  VISUALIZATION ####################################################\n",
    "\n",
    "# 1. Beautiful Decision Tree Plot\n",
    "plt.figure(figsize=(20, 12))\n",
    "plot_tree(clf, \n",
    "          feature_names=[feature_mapping[col] for col in feature_cols],\n",
    "          class_names=['No Diabetes', 'Has Diabetes'],\n",
    "          filled=True,\n",
    "          rounded=True,\n",
    "          fontsize=12,\n",
    "          proportion=True,\n",
    "          impurity=False)\n",
    "\n",
    "plt.title('🌳 Diabetes Prediction Decision Tree\\n'\n",
    "          f'Model Accuracy: {accuracy:.1%}', \n",
    "          fontsize=20, fontweight='bold', pad=20)\n",
    "plt.tight_layout()\n",
    "plt.savefig('friendly_decision_tree.png', dpi=300, bbox_inches='tight')\n",
    "plt.show()\n"
   ]
  },
  {
   "cell_type": "code",
   "execution_count": null,
   "id": "d163c9f1",
   "metadata": {},
   "outputs": [],
   "source": [
    "\n",
    "# 2. Model Performance Visualization\n",
    "from sklearn.metrics import confusion_matrix, classification_report\n",
    "import seaborn as sns\n",
    "\n",
    "# Confusion Matrix\n",
    "cm = confusion_matrix(y_test, y_pred)\n",
    "plt.figure(figsize=(8, 6))\n",
    "sns.heatmap(cm, annot=True, fmt='d', cmap='Blues', \n",
    "            xticklabels=['No Diabetes', 'Has Diabetes'],\n",
    "            yticklabels=['No Diabetes', 'Has Diabetes'],\n",
    "            cbar_kws={'label': 'Count'})\n",
    "plt.title('🎯 Model Performance: Confusion Matrix', fontsize=16, fontweight='bold', pad=20)\n",
    "plt.xlabel('Predicted', fontsize=12, fontweight='bold')\n",
    "plt.ylabel('Actual', fontsize=12, fontweight='bold')\n",
    "plt.tight_layout()\n",
    "plt.savefig('confusion_matrix.png', dpi=300, bbox_inches='tight')\n",
    "plt.show()\n"
   ]
  },
  {
   "cell_type": "code",
   "execution_count": null,
   "id": "a519680b",
   "metadata": {},
   "outputs": [],
   "source": [
    "\n",
    "# 3. Summary Statistics\n",
    "print(\"\\n\" + \"=\"*60)\n",
    "print(\"MODEL SUMMARY\")\n",
    "print(\"=\"*60)\n",
    "print(f\"Accuracy: {accuracy:.1%}\")\n",
    "print(f\"Tree Depth: {clf.tree_.max_depth}\")\n",
    "print(f\"Number of Leaves: {clf.tree_.n_leaves}\")\n",
    "print(f\"Total Samples: {len(X)}\")\n",
    "print(f\"Test Samples: {len(X_test)}\")\n",
    "\n",
    "# 4. Classification report\n",
    "print(\"\\n📋 Detailed Classification Report:\")\n",
    "print(classification_report(y_test, y_pred, target_names=['No Diabetes', 'Has Diabetes']))"
   ]
  }
 ],
 "metadata": {
  "kernelspec": {
   "display_name": "Python 3",
   "language": "python",
   "name": "python3"
  },
  "language_info": {
   "codemirror_mode": {
    "name": "ipython",
    "version": 3
   },
   "file_extension": ".py",
   "mimetype": "text/x-python",
   "name": "python",
   "nbconvert_exporter": "python",
   "pygments_lexer": "ipython3",
   "version": "3.12.10"
  }
 },
 "nbformat": 4,
 "nbformat_minor": 5
}
